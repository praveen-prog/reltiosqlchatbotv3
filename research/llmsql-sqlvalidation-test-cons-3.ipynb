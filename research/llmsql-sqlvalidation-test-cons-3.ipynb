{
 "cells": [
  {
   "cell_type": "code",
   "execution_count": 1,
   "metadata": {},
   "outputs": [
    {
     "name": "stdout",
     "output_type": "stream",
     "text": [
      "Note: you may need to restart the kernel to use updated packages.\n"
     ]
    }
   ],
   "source": [
    "%pip install --upgrade --quiet  langchain langchain-community langchain-openai"
   ]
  },
  {
   "cell_type": "code",
   "execution_count": 1,
   "metadata": {},
   "outputs": [],
   "source": [
    "import os\n",
    "from dotenv import load_dotenv\n",
    "load_dotenv()\n",
    "os.environ[\"LANGCHAIN_TRACING_V2\"] = \"true\"\n",
    "os.environ[\"LANGCHAIN_API_KEY\"] = os.environ.get('LANGCHAIN_API_KEY')\n",
    "os.environ[\"OPENAI_API_KEY\"] = os.environ.get('OPENAI_API_KEY')"
   ]
  },
  {
   "cell_type": "code",
   "execution_count": 16,
   "metadata": {},
   "outputs": [
    {
     "name": "stdout",
     "output_type": "stream",
     "text": [
      "sqlite\n",
      "['BedUtilization', 'HealthCareProvider', 'HospitalDepartment', 'Patient', 'PatientAdmissionHistory', 'StaffUtilization']\n",
      "[('CREATE TABLE Patient (EmergencyContactPhone TEXT, EmergencyContactName TEXT, ChronicConditions TEXT, KnownDrugAllergies TEXT, InsuranceProvider TEXT, PrimaryCarePhysician TEXT, NationalID TEXT, Address_AddressLine1 TEXT, Address_State TEXT, Address_Country TEXT, Address_ZipCode TEXT, Email TEXT,...',)]\n",
      "[('8418601623', 'Sarah Williams', 'Hypertension', 'Sulfa Drugs', 'Harrington PLC', 'Michael Choi', '496-34-4700', '046 Carolyn Crest', 'NJ', 'USA', '14328', 'perryrachel@le.info', '5138062224', 'Male', '1960-02-08', 'King', 'Timothy', '51127'), ('2939404640', 'Jeffrey White', 'None', 'None', 'Flowers Ltd', 'Mary Quinn', '269-90-9934', '0732 Shawn Centers Apt. 075', 'NJ', 'USA', '14328', 'boyerjacqueline@chan.biz', '7770894315', 'Other', '1947-07-21', 'Smith', 'Michael', '84092'), ('7166129064', 'Marvin Santiago', 'Heart Disease', 'None', 'Mitchell-Lewis', 'Sandra Chapman', '560-18-8690', '996 Keller Inlet', 'NJ', 'USA', '14328', 'weaverjuan@daniels.net', '9402743870', 'Other', '1995-11-11', 'Larson', 'Lance', '81811'), ('9923795503', 'Adam Douglas', 'Heart Disease', 'None', 'Williams LLC', 'Jessica Brown', '794-71-0735', '19218 Daniel Forest', 'NJ', 'USA', '14328', 'elizabeth73@stewart.com', '1416943373', 'Other', '1966-04-12', 'Cunningham', 'Barbara', '44872'), ('8349037993', 'Stuart Parker', 'Diabetes', 'Aspirin', 'Kelly, Weeks and Schwartz', 'Patricia Sandoval', '322-81-0149', '4338 Suzanne Meadows Apt. 663', 'NJ', 'USA', '14328', 'mary89@francis.com', '9125962958', 'Other', '1962-12-22', 'Rich', 'Kathy', '52455'), ('6102203498', 'Bethany Baxter', 'Heart Disease', 'Aspirin', 'Wilson-Acevedo', 'Dennis Ellison', '646-40-1748', '85929 Heather Squares Apt. 271', 'NJ', 'USA', '14328', 'davisfrank@nguyen.com', '7599783027', 'Other', '1999-08-04', 'Hodge', 'David', '18523'), ('8812433614', 'Andrew Hall', 'Asthma', 'Penicillin', 'Simpson Inc', 'Allen Castillo', '634-19-3458', '38374 Reyes Drives', 'NJ', 'USA', '14328', 'megan62@miller-hamilton.org', '3236488563', 'Female', '1959-06-09', 'Miller', 'Kent', '81812'), ('7180336199', 'Andrea Powell', 'Obesity', 'Aspirin', 'Ramirez and Sons', 'Caleb Anderson', '411-33-1126', '82664 Williams Wall Apt. 958', 'NJ', 'USA', '14328', 'sophiarobertson@yahoo.com', '2889531734', 'Other', '1992-06-24', 'Moore', 'Jose', '89749'), ('4963074105', 'Terri Hubbard', 'Heart Disease', 'Sulfa Drugs', 'Joseph LLC', 'Kenneth Todd', '362-46-1470', 'USNV Williams', 'NJ', 'USA', '14328', 'anthonylewis@mendoza-spencer.com', '7361694979', 'Female', '1967-02-18', 'Black', 'Cody', '15480'), ('5022840270', 'Shaun Merritt', 'Obesity', 'None', 'Richards-Cantu', 'Amanda Wilson', '350-77-6907', '6339 Justin Cape Suite 366', 'NJ', 'USA', '14328', 'weberveronica@gmail.com', '4639121676', 'Other', '1988-12-02', 'Medina', 'Joanna', '27465')]\n"
     ]
    }
   ],
   "source": [
    "from langchain_community.utilities import SQLDatabase\n",
    "\n",
    "db = SQLDatabase.from_uri(\"sqlite:///patients.db\")\n",
    "print(db.dialect)\n",
    "print(db.get_usable_table_names())\n",
    "print(db.run(\"SELECT sql FROM sqlite_master WHERE tbl_name in ('Patient') AND type = 'table';\"))\n",
    "print(db.run(\"SELECT * from Patient limit 10;\"))"
   ]
  },
  {
   "cell_type": "markdown",
   "metadata": {},
   "source": []
  },
  {
   "cell_type": "code",
   "execution_count": 4,
   "metadata": {},
   "outputs": [
    {
     "name": "stdout",
     "output_type": "stream",
     "text": [
      "Note: you may need to restart the kernel to use updated packages.\n"
     ]
    }
   ],
   "source": [
    "pip install -qU langchain-openai"
   ]
  },
  {
   "cell_type": "code",
   "execution_count": 6,
   "metadata": {},
   "outputs": [],
   "source": [
    "from langchain_openai import ChatOpenAI\n",
    "llm = ChatOpenAI(model=\"gpt-4o-mini\")"
   ]
  },
  {
   "cell_type": "code",
   "execution_count": 6,
   "metadata": {},
   "outputs": [],
   "source": [
    "# from langchain_community.agent_toolkits.sql.toolkit import SQLDatabaseToolkit\n",
    "\n",
    "# toolkit = SQLDatabaseToolkit(db=db, llm=llm)"
   ]
  },
  {
   "cell_type": "code",
   "execution_count": 7,
   "metadata": {},
   "outputs": [],
   "source": [
    "from langchain.chains import create_sql_query_chain\n",
    "\n",
    "chain = create_sql_query_chain(llm, db)"
   ]
  },
  {
   "cell_type": "code",
   "execution_count": 8,
   "metadata": {},
   "outputs": [],
   "source": [
    "from langchain_core.output_parsers.openai_tools import PydanticToolsParser\n",
    "from langchain_core.prompts import ChatPromptTemplate\n",
    "from pydantic import BaseModel, Field\n",
    "class Table(BaseModel):\n",
    "    \"\"\"Table in SQL database.\"\"\"\n",
    "\n",
    "    name: str = Field(description=\"Name of table in SQL database.\")\n",
    "\n",
    "\n",
    "table_names = \"\\n\".join(db.get_usable_table_names())\n",
    "system = f\"\"\"Return the names of ALL the SQL tables that MIGHT be relevant to the user question. \\\n",
    "The tables are:\n",
    "\n",
    "{table_names}\n",
    "\n",
    "Remember to include ALL POTENTIALLY RELEVANT tables, even if you're not sure that they're needed.\"\"\"\n",
    "\n",
    "prompt = ChatPromptTemplate.from_messages(\n",
    "    [\n",
    "        (\"system\", system),\n",
    "        (\"human\", \"{input}\"),\n",
    "    ]\n",
    ")\n",
    "\n",
    "llm_with_tools = llm.bind_tools([Table])\n",
    "output_parser = PydanticToolsParser(tools=[Table])\n",
    "\n",
    "system = \"\"\"You are a SQLite expert. Given an input question, first create a syntactically correct SQLite query to run, then look at the results of the query and return the answer to the input question.\n",
    "Unless the user specifies in the question a specific number of examples to obtain, query for at most 5 results using the LIMIT clause as per SQLite. You can order the results to return the most informative data in the database.\n",
    "Never query for all columns from a table. You must query only the columns that are needed to answer the question. Wrap each column name in double quotes (\") to denote them as delimited identifiers.\n",
    "Pay attention to use only the column names you can see in the tables below. Be careful to not query for columns that do not exist. Also, pay attention to which column is in which table.\n",
    "Pay attention to use date('now') function to get the current date, if the question involves \"today\".\n",
    "Return the names of any SQL tables that are relevant to the user question.\n",
    "Use the following format:\n",
    "\n",
    "Question: Question here\n",
    "SQLQuery: SQL Query to run\n",
    "SQLResult: Result of the SQLQuery\n",
    "Answer: Final answer here\n",
    "\n",
    "The tables are:\n",
    "\n",
    "Music\n",
    "Business\n",
    "Hospital\n",
    "\"\"\"\n",
    "\n",
    "prompt = ChatPromptTemplate.from_messages(\n",
    "    [\n",
    "        (\"system\", system),\n",
    "        (\"human\", \"{input}\"),\n",
    "    ]\n",
    ")\n",
    "\n",
    "category_chain = prompt | llm_with_tools | output_parser\n",
    "#category_chain.invoke({\"input\": \"What are all the genres of Alanis Morisette songs\"})"
   ]
  },
  {
   "cell_type": "code",
   "execution_count": 9,
   "metadata": {},
   "outputs": [],
   "source": [
    "from typing import List\n",
    "\n",
    "\n",
    "def get_tables(categories: List[Table]) -> List[str]:\n",
    "    tables = []\n",
    "    for category in categories:\n",
    "        if category.name == \"Music\":\n",
    "            tables.extend(\n",
    "                [\n",
    "                    \"Album\",\n",
    "                    \"Artist\",\n",
    "                    \"Genre\",\n",
    "                    \"MediaType\",\n",
    "                    \"Playlist\",\n",
    "                    \"PlaylistTrack\",\n",
    "                    \"Track\",\n",
    "                ]\n",
    "            )\n",
    "        elif category.name == \"Business\":\n",
    "            tables.extend([\"Customer\", \"Employee\", \"Invoice\", \"InvoiceLine\"])\n",
    "        elif category.name == \"Hospital\":\n",
    "            tables.extend([\"Patient\",\"patients\"])    \n",
    "    return tables\n",
    "\n",
    "\n",
    "table_chain = category_chain | get_tables\n",
    "#table_chain.invoke({\"input\": \"What are all the genres of Alanis Morisette songs\"})"
   ]
  },
  {
   "cell_type": "code",
   "execution_count": 10,
   "metadata": {},
   "outputs": [],
   "source": [
    "from langchain_community.tools.sql_database.tool import QuerySQLDataBaseTool\n",
    "from langchain_core.output_parsers import StrOutputParser\n",
    "from langchain_core.prompts import ChatPromptTemplate\n",
    "system = \"\"\"You are a {dialect} expert. Given an input question, create a syntactically correct {dialect} query to run.\n",
    "Unless the user specifies in the question a specific number of examples to obtain, query for at most {top_k} results using the LIMIT clause as per {dialect}. You can order the results to return the most informative data in the database.\n",
    "Never query for all columns from a table. You must query only the columns that are needed to answer the question. Wrap each column name in double quotes (\") to denote them as delimited identifiers.\n",
    "Pay attention to use only the column names you can see in the tables below. Be careful to not query for columns that do not exist. Also, pay attention to which column is in which table.\n",
    "Pay attention to use date('now') function to get the current date, if the question involves \"today\".\n",
    "\n",
    "Only use the following tables:\n",
    "{table_info}\n",
    "\n",
    "Write an initial draft of the query. Then double check the {dialect} query for common mistakes, including:\n",
    "- Using NOT IN with NULL values\n",
    "- Using UNION when UNION ALL should have been used\n",
    "- Using BETWEEN for exclusive ranges\n",
    "- Data type mismatch in predicates\n",
    "- Properly quoting identifiers\n",
    "- Using the correct number of arguments for functions\n",
    "- Casting to the correct data type\n",
    "- Using the proper columns for joins\n",
    "\n",
    "If there are any of the above mistakes, rewrite the query.Do not include characters ` in the beginning and end of the sql.\n",
    "Remove any unwanted characters like back ticks :,;,` in the beginning and end.\n",
    "If there are no mistakes, just reproduce the original query with no further commentary.\n",
    "\n",
    "Use format:\n",
    "\n",
    "First draft: <<FIRST_DRAFT_QUERY>>\n",
    "Final answer: <<FINAL_ANSWER_QUERY>>\n",
    "\"\"\"\n",
    "prompt = ChatPromptTemplate.from_messages(\n",
    "    [(\"system\", system), (\"human\", \"{input}\")]\n",
    ").partial(dialect=db.dialect)\n",
    "\n",
    "\n",
    "def parse_final_answer(output: str) -> str:\n",
    "    return output.split(\"Final answer: \")[1]\n",
    "\n",
    "\n",
    "full_chain = create_sql_query_chain(llm, db, prompt=prompt) | parse_final_answer\n",
    "\n",
    "execute_query = QuerySQLDataBaseTool(db=db,use_query_checker=True,response_format='content')\n",
    "write_query = full_chain\n",
    "chain = write_query | execute_query"
   ]
  },
  {
   "cell_type": "code",
   "execution_count": 11,
   "metadata": {},
   "outputs": [],
   "source": [
    "from operator import itemgetter\n",
    "\n",
    "from langchain_core.output_parsers import StrOutputParser\n",
    "from langchain_core.prompts import PromptTemplate\n",
    "from langchain_core.runnables import RunnablePassthrough\n",
    "\n",
    "answer_prompt = PromptTemplate.from_template(\n",
    "    \"\"\"Given the following user question, corresponding SQL query, and SQL result, answer the user question.\n",
    "\n",
    "Question: {question}\n",
    "SQL Query: {query}\n",
    "SQL Result: {result}\n",
    "Answer: \"\"\"\n",
    ")\n",
    "\n",
    "table_chain = {\"input\": itemgetter(\"question\")} | table_chain\n",
    "\n",
    "chain = (\n",
    "    RunnablePassthrough.assign(query=write_query,table_names_to_use=table_chain).assign(\n",
    "        result=itemgetter(\"query\") | execute_query\n",
    "    )\n",
    "    | answer_prompt\n",
    "    | llm\n",
    "    | StrOutputParser()\n",
    ")\n",
    "\n"
   ]
  },
  {
   "cell_type": "code",
   "execution_count": 13,
   "metadata": {},
   "outputs": [
    {
     "name": "stdout",
     "output_type": "stream",
     "text": [
      "The address of Michael Choi is 046 Carolyn Crest, NJ, USA, 14328.\n"
     ]
    }
   ],
   "source": [
    "response = chain.invoke(\n",
    "                            {\"question\": \"Address of Michael Choi\"}\n",
    "                        )\n",
    "print(response)"
   ]
  }
 ],
 "metadata": {
  "kernelspec": {
   "display_name": "sqlbotenv",
   "language": "python",
   "name": "python3"
  },
  "language_info": {
   "codemirror_mode": {
    "name": "ipython",
    "version": 3
   },
   "file_extension": ".py",
   "mimetype": "text/x-python",
   "name": "python",
   "nbconvert_exporter": "python",
   "pygments_lexer": "ipython3",
   "version": "3.10.15"
  }
 },
 "nbformat": 4,
 "nbformat_minor": 2
}
